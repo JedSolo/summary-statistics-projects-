{
 "cells": [
  {
   "cell_type": "code",
   "execution_count": null,
   "id": "82dd8f61",
   "metadata": {},
   "outputs": [],
   "source": [
    "import matplotlib.pyplot as plt\n",
    "import pandas as pd\n",
    "import seaborn as sns\n",
    "import codecademylib3\n",
    "\n",
    "# load in the data\n",
    "df = pd.read_csv(\"mushroom_data.csv\")\n",
    "print(df.head())\n",
    "\n",
    "# list of all column headers\n",
    "columns = df.columns.tolist()\n",
    "\n",
    "# Looping through the list of columns:\n",
    "for column in columns:\n",
    "  sns.countplot(df[column], order=df[column].value_counts().index)\n",
    "  plt.title(\"{} Value Counts\".format(column))\n",
    "  plt.xticks(rotation=30, fontsize=10)\n",
    "  plt.xlabel(column, fontsize=12)\n",
    "  plt.show()\n",
    "  plt.clf()\n",
    "\n",
    "# Creating an pie for all bar graph with less than six bars:\n",
    "for column in columns:\n",
    "  if df[column].nunique() < 6:\n",
    "    data = df[column].value_counts(normalize=True).reset_index()\n",
    "    wedge_sizes = data[column]\n",
    "    pie_label = data[\"index\"]\n",
    "    plt.pie(wedge_sizes, labels=pie_label)\n",
    "    plt.axis('equal')\n",
    "    plt.title(\"{} Pie Chart\".format(column))\n",
    "    plt.show()\n",
    "    plt.clf()"
   ]
  },
  {
   "cell_type": "code",
   "execution_count": null,
   "id": "885e4856",
   "metadata": {},
   "outputs": [],
   "source": []
  }
 ],
 "metadata": {
  "kernelspec": {
   "display_name": "Python 3",
   "language": "python",
   "name": "python3"
  },
  "language_info": {
   "codemirror_mode": {
    "name": "ipython",
    "version": 3
   },
   "file_extension": ".py",
   "mimetype": "text/x-python",
   "name": "python",
   "nbconvert_exporter": "python",
   "pygments_lexer": "ipython3",
   "version": "3.9.1"
  }
 },
 "nbformat": 4,
 "nbformat_minor": 5
}
