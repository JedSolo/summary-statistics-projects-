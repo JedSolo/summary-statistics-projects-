{
 "cells": [
  {
   "cell_type": "code",
   "execution_count": null,
   "id": "49f1452d",
   "metadata": {},
   "outputs": [],
   "source": [
    "import codecademylib3_seaborn\n",
    "import pandas as pd\n",
    "import numpy as np\n",
    "from weather_data import london_data\n",
    "\n",
    "# Printing first five rows of the dataset:\n",
    "#print(london_data.head())\n",
    "#print(london_data.iloc[100:200])\n",
    "\n",
    "print(len(london_data))\n",
    "\n",
    "# Looking at the Temperature:\n",
    "temp = london_data[\"TemperatureC\"]\n",
    "\n",
    "# Finding average temperature in London in 2015:\n",
    "average_temp = np.average(temp)\n",
    "\n",
    "# Calculating variance:\n",
    "temperature_var = np.var(temp)\n",
    "print(\"Variance:\", temperature_var)\n",
    "\n",
    "# Calculating standard_deviation:\n",
    "temperature_standard_deviation = np.std(temp)\n",
    "print(\"Standard Deviation:\", temperature_standard_deviation)\n",
    "\n",
    "# Filtering by month:\n",
    "print(london_data.head())\n",
    "print(london_data.tail())\n",
    "\n",
    "# June:\n",
    "june = london_data.loc[london_data[\"month\"] == 6][\"TemperatureC\"]\n",
    "print(june)\n",
    "\n",
    "# July:\n",
    "july = london_data.loc[london_data[\"month\"] == 7][\"TemperatureC\"]\n",
    "\n",
    "# Average temp in June and July:\n",
    "avg_temp_june = np.mean(june)\n",
    "avg_temp_july = np.mean(july)\n",
    "\n",
    "print(\"Average Temperature in June:\", avg_temp_june)\n",
    "print(\"Average Temperature in July\", avg_temp_july)\n",
    "\n",
    "# Standard deviation of temperature in June and July:\n",
    "std_june = np.std(june)\n",
    "std_july = np.std(july)\n",
    "\n",
    "print(\"Standard deviation Temperature,June:\", std_june)\n",
    "print(\"Standard deviation Temperature,July:\", std_july)\n",
    "\n",
    "# Mean and standard deviation of every month:\n",
    "for i in range(1, 13):\n",
    "  month = london_data.loc[london_data[\"month\"] == i][\"TemperatureC\"]\n",
    "  print(\"The mean temperature in month \"+str(i) +\" is \"+ str(np.mean(month)))\n",
    "  print(\"The standard deviation of temperature in month \"+str(i) +\" is \"+ str(np.std(month)) +\"\\n\")"
   ]
  },
  {
   "cell_type": "code",
   "execution_count": null,
   "id": "6e18ed8a",
   "metadata": {},
   "outputs": [],
   "source": []
  }
 ],
 "metadata": {
  "kernelspec": {
   "display_name": "Python 3",
   "language": "python",
   "name": "python3"
  },
  "language_info": {
   "codemirror_mode": {
    "name": "ipython",
    "version": 3
   },
   "file_extension": ".py",
   "mimetype": "text/x-python",
   "name": "python",
   "nbconvert_exporter": "python",
   "pygments_lexer": "ipython3",
   "version": "3.9.1"
  }
 },
 "nbformat": 4,
 "nbformat_minor": 5
}
