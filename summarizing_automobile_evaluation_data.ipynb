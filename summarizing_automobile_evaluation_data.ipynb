{
 "cells": [
  {
   "cell_type": "code",
   "execution_count": null,
   "id": "bb4c35c9",
   "metadata": {},
   "outputs": [],
   "source": [
    "import pandas as pd\n",
    "import numpy as np\n",
    "\n",
    "car_eval = pd.read_csv('car_eval_dataset.csv')\n",
    "print(car_eval.head())\n",
    "\n",
    "# Creating a table of freuences of all the cars reviewed by manufacturer_country:\n",
    "dataset = car_eval.manufacturer_country.value_counts()\n",
    "\n",
    "# Modal category:\n",
    "most_category = dataset.index[0]\n",
    "print(\"Modal Category:\", most_category)\n",
    "\n",
    "# 4th most frequent country:\n",
    "fourth_freq = dataset.index[3]\n",
    "print(\"4th most frequent country:\", fourth_freq)\n",
    "\n",
    "# Table of proportions for countries:\n",
    "country_proportion = car_eval.manufacturer_country.value_counts(normalize=True, dropna=False)\n",
    "print(country_proportion)\n",
    "\n",
    "# Possible values in the column \"buying_cost\":\n",
    "print(car_eval.buying_cost.unique())\n",
    "buying_cost_categories = [\"low\", \"med\", \"high\", \"vhig\"]\n",
    "car_eval.buying_cost = pd.Categorical(car_eval.buying_cost, buying_cost_categories, ordered=True)\n",
    "\n",
    "# Median category of the buying_cost variable:\n",
    "median_index = np.median(car_eval.buying_cost.cat.codes)\n",
    "median_category = buying_cost_categories[int(median_index)]\n",
    "print(\"Median Category:\", median_category)\n",
    "\n",
    "# Summarizing Luggage Capacity:\n",
    "# Table of Proportion of luggage column:\n",
    "data = car_eval.luggage.value_counts(normalize=True, dropna=False)\n",
    "print(data)\n",
    "\n",
    "# Summarizing Passenger Capacity:\n",
    "# Frequency of cars with 5+ doors:\n",
    "frequency = np.sum(car_eval.doors == \"5more\")\n",
    "print(frequency)\n",
    "\n",
    "# Proportions of cars with 5+ doors:\n",
    "proportion = np.mean(car_eval.doors == \"5more\")\n",
    "print(proportion)"
   ]
  },
  {
   "cell_type": "code",
   "execution_count": null,
   "id": "08837a51",
   "metadata": {},
   "outputs": [],
   "source": []
  }
 ],
 "metadata": {
  "kernelspec": {
   "display_name": "Python 3",
   "language": "python",
   "name": "python3"
  },
  "language_info": {
   "codemirror_mode": {
    "name": "ipython",
    "version": 3
   },
   "file_extension": ".py",
   "mimetype": "text/x-python",
   "name": "python",
   "nbconvert_exporter": "python",
   "pygments_lexer": "ipython3",
   "version": "3.9.1"
  }
 },
 "nbformat": 4,
 "nbformat_minor": 5
}
