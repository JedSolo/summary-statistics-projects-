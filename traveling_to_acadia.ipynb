{
 "cells": [
  {
   "cell_type": "code",
   "execution_count": null,
   "id": "8d1698bc",
   "metadata": {},
   "outputs": [],
   "source": [
    "# import codecademylib3\n",
    "import codecademylib3\n",
    "import numpy as np\n",
    "from matplotlib import pyplot as plt\n",
    "\n",
    "# load in data\n",
    "in_bloom = np.loadtxt(open(\"in-bloom.csv\"), delimiter=\",\")\n",
    "flights = np.loadtxt(open(\"flights.csv\"), delimiter=\",\")\n",
    "\n",
    "# Plot the histograms\n",
    "plt.figure(1)\n",
    "plt.subplot(211)\n",
    "\n",
    "# Flight histograms:\n",
    "plt.hist(flights, range = (0, 365), bins=365, edgecolor=\"green\")\n",
    "plt.title(\"Flights to Airports near Acadia, Maine\")\n",
    "plt.xlabel(\"Days of the year\")\n",
    "plt.ylabel(\"No. of Flights\")\n",
    "\n",
    "plt.subplot(212)\n",
    "\n",
    "# Flower bloom histogram:\n",
    "plt.hist(in_bloom, range = (0, 365), bins=365, edgecolor=\"pink\")\n",
    "plt.title(\"No. of Flowers blooming by Day\")\n",
    "plt.xlabel(\"Days of the year\")\n",
    "plt.ylabel(\"No. of Flowers Bloom\")\n",
    "plt.tight_layout()\n",
    "plt.show()"
   ]
  },
  {
   "cell_type": "code",
   "execution_count": null,
   "id": "23ac10e6",
   "metadata": {},
   "outputs": [],
   "source": []
  }
 ],
 "metadata": {
  "kernelspec": {
   "display_name": "Python 3",
   "language": "python",
   "name": "python3"
  },
  "language_info": {
   "codemirror_mode": {
    "name": "ipython",
    "version": 3
   },
   "file_extension": ".py",
   "mimetype": "text/x-python",
   "name": "python",
   "nbconvert_exporter": "python",
   "pygments_lexer": "ipython3",
   "version": "3.9.1"
  }
 },
 "nbformat": 4,
 "nbformat_minor": 5
}
