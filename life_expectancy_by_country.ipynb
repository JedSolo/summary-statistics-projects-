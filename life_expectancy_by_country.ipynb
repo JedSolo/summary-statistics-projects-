{
 "cells": [
  {
   "cell_type": "code",
   "execution_count": null,
   "id": "d429a6c3",
   "metadata": {},
   "outputs": [],
   "source": [
    "import codecademylib3_seaborn\n",
    "import numpy as np\n",
    "import pandas as pd\n",
    "import matplotlib.pyplot as plt\n",
    "\n",
    "data = pd.read_csv(\"country_data.csv\")\n",
    "print(data.head())\n",
    "\n",
    "life_expectancy = data[\"Life Expectancy\"]\n",
    "\n",
    "# Finding the quartile of Life expectancy:\n",
    "life_expectancy_quartiles = np.quantile(life_expectancy, [0.25, 0.50, 0.75])\n",
    "print(life_expectancy_quartiles)\n",
    "\n",
    "#plt.hist(life_expectancy)\n",
    "#plt.show()\n",
    "\n",
    "#Splitting the Data by GDP:\n",
    "gdp = data[\"GDP\"]\n",
    "median_gdp = np.quantile(gdp, 0.5)\n",
    "print(median_gdp)\n",
    "\n",
    "low_gdp = data[data['GDP'] <= median_gdp]\n",
    "high_gdp = data[data['GDP'] > median_gdp]\n",
    "\n",
    "# Low GDP quartiles:\n",
    "low_gdp_quartiles = np.quantile(low_gdp[\"Life Expectancy\"], [0.25, 0.50, 0.75])\n",
    "print(low_gdp_quartiles)\n",
    "\n",
    "# High GDP quartiles:\n",
    "high_gdp_quartiles = np.quantile(high_gdp[\"Life Expectancy\"], [0.25, 0.50, 0.75])\n",
    "print(high_gdp_quartiles)\n",
    "\n",
    "plt.hist(high_gdp[\"Life Expectancy\"], alpha = 0.5, label = \"High GDP\")\n",
    "plt.hist(low_gdp[\"Life Expectancy\"], alpha = 0.5, label = \"Low GDP\")\n",
    "plt.legend()\n",
    "plt.show()"
   ]
  },
  {
   "cell_type": "code",
   "execution_count": null,
   "id": "794c1026",
   "metadata": {},
   "outputs": [],
   "source": []
  }
 ],
 "metadata": {
  "kernelspec": {
   "display_name": "Python 3",
   "language": "python",
   "name": "python3"
  },
  "language_info": {
   "codemirror_mode": {
    "name": "ipython",
    "version": 3
   },
   "file_extension": ".py",
   "mimetype": "text/x-python",
   "name": "python",
   "nbconvert_exporter": "python",
   "pygments_lexer": "ipython3",
   "version": "3.9.1"
  }
 },
 "nbformat": 4,
 "nbformat_minor": 5
}
