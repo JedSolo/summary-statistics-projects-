{
 "cells": [
  {
   "cell_type": "code",
   "execution_count": null,
   "id": "711b69e0",
   "metadata": {},
   "outputs": [],
   "source": [
    "import codecademylib3\n",
    "\n",
    "# Import pandas with alias\n",
    "import pandas as pd\n",
    "\n",
    "# Read in the census dataframe\n",
    "census = pd.read_csv('census_data.csv', index_col=0)\n",
    "\n",
    "# Viewing first five row in the dataframe\n",
    "print(census.head())\n",
    "\n",
    "print(census.dtypes)\n",
    "\n",
    "# Checking the unique values in the birth_year column\n",
    "print(census.birth_year.unique())\n",
    "\n",
    "# Replacing the 'missing' value with 1967\n",
    "census.birth_year = census.birth_year.replace(missing, 1967)\n",
    "print(census.birth_year.unique())\n",
    "\n",
    "# Changing the datatype of birth_year column to int\n",
    "census.birth_year = census.birth_year.astype(int)\n",
    "print(census.dtypes)\n",
    "\n",
    "# Finding the average age\n",
    "avg_birth_year = census.birth_year.mean()\n",
    "print(Avearge Age, avg_birth_year)\n",
    "\n",
    "# Converting higher_tax column into a category data type\n",
    "census.higher_tax = pd.Categorical(census.higher_tax, [strongly disagree, disagree, neutral, agree, strongly agree], ordered=True)\n",
    "print(census.higher_tax.unique())\n",
    "\n",
    "# Label encoding the higher_tax column\n",
    "census.higher_tax = census.higher_tax.cat.codes\n",
    "# Finding the median\n",
    "print(census.higher_tax.median())\n",
    "\n",
    "# Label Encoding the marital_status\n",
    "census.marital_status = pd.Categorical(census.marital_status, [single, married, divorced], ordered=True)\n",
    "census[marital_codes] = census.marital_status.cat.codes\n",
    "\n",
    "# One_Hot Encode marital_status column\n",
    "census = pd.get_dummies(data=census, columns=[marital_status])\n",
    "print(census.head())"
   ]
  },
  {
   "cell_type": "code",
   "execution_count": null,
   "id": "dfebbcfc",
   "metadata": {},
   "outputs": [],
   "source": []
  }
 ],
 "metadata": {
  "kernelspec": {
   "display_name": "Python 3",
   "language": "python",
   "name": "python3"
  },
  "language_info": {
   "codemirror_mode": {
    "name": "ipython",
    "version": 3
   },
   "file_extension": ".py",
   "mimetype": "text/x-python",
   "name": "python",
   "nbconvert_exporter": "python",
   "pygments_lexer": "ipython3",
   "version": "3.9.1"
  }
 },
 "nbformat": 4,
 "nbformat_minor": 5
}
