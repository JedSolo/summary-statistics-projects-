{
 "cells": [
  {
   "cell_type": "code",
   "execution_count": null,
   "id": "9f5e1233",
   "metadata": {},
   "outputs": [],
   "source": [
    "import codecademylib3_seaborn\n",
    "import pandas as pd\n",
    "from matplotlib import pyplot as plt\n",
    "\n",
    "healthcare = pd.read_csv(\"healthcare.csv\")\n",
    "print(healthcare.head())\n",
    "\n",
    "# Checking the different diagnoses in our dataset:\n",
    "print(healthcare[\"DRG Definition\"].unique())\n",
    "\n",
    "# Dataset about chestpain:\n",
    "chest_pain = healthcare[healthcare['DRG Definition'] == '313 - CHEST PAIN']\n",
    "#print(chest_pain)\n",
    "\n",
    "# Separating by State:\n",
    "# Chest pain diagnosis in Alabama:\n",
    "alabama_chest_pain = chest_pain[chest_pain['Provider State'] == \"AL\"]\n",
    "costs = alabama_chest_pain[' Average Covered Charges '].values\n",
    "print(costs)\n",
    "#plt.boxplot(costs)\n",
    "#plt.show()\n",
    "\n",
    "# Making a Boxplot for All States:\n",
    "states = chest_pain[\"Provider State\"].unique()\n",
    "datasets = []\n",
    "for state in states:\n",
    "  datasets.append(chest_pain[chest_pain['Provider State'] == state][' Average Covered Charges '].values)\n",
    "\n",
    "print(datasets)\n",
    "# Drawing 50 boxplots:\n",
    "# plt.figure(figsize=(20,6))\n",
    "# plt.boxplot(datasets, labels = states)\n",
    "# plt.show()\n",
    "\n",
    "#Dataset about Heart Failure & Shock\n",
    "heart_failure = healthcare[healthcare['DRG Definition'] == '293 - HEART FAILURE & SHOCK W/O CC/MCC']\n",
    "states = heart_failure[\"Provider State\"].unique()\n",
    "datasets = []\n",
    "for state in states:\n",
    "  datasets.append(heart_failure[heart_failure['Provider State'] == state]['Average Medicare Payments'].values)\n",
    "\n",
    "plt.figure(figsize=(20,6))\n",
    "plt.boxplot(datasets, labels = states)\n",
    "plt.show()\n"
   ]
  },
  {
   "cell_type": "code",
   "execution_count": null,
   "id": "a89df603",
   "metadata": {},
   "outputs": [],
   "source": []
  }
 ],
 "metadata": {
  "kernelspec": {
   "display_name": "Python 3",
   "language": "python",
   "name": "python3"
  },
  "language_info": {
   "codemirror_mode": {
    "name": "ipython",
    "version": 3
   },
   "file_extension": ".py",
   "mimetype": "text/x-python",
   "name": "python",
   "nbconvert_exporter": "python",
   "pygments_lexer": "ipython3",
   "version": "3.9.1"
  }
 },
 "nbformat": 4,
 "nbformat_minor": 5
}
